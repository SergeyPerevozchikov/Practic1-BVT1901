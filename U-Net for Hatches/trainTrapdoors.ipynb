{
 "cells": [
  {
   "cell_type": "code",
   "execution_count": 1,
   "metadata": {},
   "outputs": [],
   "source": [
    "from model import *\n",
    "from data import *"
   ]
  },
  {
   "cell_type": "code",
   "execution_count": 2,
   "metadata": {},
   "outputs": [
    {
     "name": "stdout",
     "output_type": "stream",
     "text": [
      "WARNING:tensorflow:From <ipython-input-2-117a06345b3a>:11: Model.fit_generator (from tensorflow.python.keras.engine.training) is deprecated and will be removed in a future version.\n",
      "Instructions for updating:\n",
      "Please use Model.fit, which supports generators.\n",
      "Found 30 images belonging to 1 classes.\n",
      "Found 30 images belonging to 1 classes.\n",
      "Epoch 1/5\n",
      "   2/2000 [..............................] - ETA: 6:57 - loss: 1.2839 - accuracy: 0.1484WARNING:tensorflow:Callbacks method `on_train_batch_end` is slow compared to the batch time (batch time: 0.1199s vs `on_train_batch_end` time: 0.2880s). Check your callbacks.\n",
      "2000/2000 [==============================] - ETA: 0s - loss: 0.6588 - accuracy: 0.8751\n",
      "Epoch 00001: loss improved from inf to 0.65881, saving model to unet_trapdoors.hdf5\n",
      "2000/2000 [==============================] - 930s 465ms/step - loss: 0.6588 - accuracy: 0.8751\n",
      "Epoch 2/5\n",
      "2000/2000 [==============================] - ETA: 0s - loss: 0.5958 - accuracy: 0.8762\n",
      "Epoch 00002: loss improved from 0.65881 to 0.59578, saving model to unet_trapdoors.hdf5\n",
      "2000/2000 [==============================] - 971s 486ms/step - loss: 0.5958 - accuracy: 0.8762\n",
      "Epoch 3/5\n",
      "2000/2000 [==============================] - ETA: 0s - loss: 0.5435 - accuracy: 0.8762\n",
      "Epoch 00003: loss improved from 0.59578 to 0.54349, saving model to unet_trapdoors.hdf5\n",
      "2000/2000 [==============================] - 981s 491ms/step - loss: 0.5435 - accuracy: 0.8762\n",
      "Epoch 4/5\n",
      "2000/2000 [==============================] - ETA: 0s - loss: 0.4999 - accuracy: 0.8763\n",
      "Epoch 00004: loss improved from 0.54349 to 0.49991, saving model to unet_trapdoors.hdf5\n",
      "2000/2000 [==============================] - 1010s 505ms/step - loss: 0.4999 - accuracy: 0.8763\n",
      "Epoch 5/5\n",
      "2000/2000 [==============================] - ETA: 0s - loss: 0.4644 - accuracy: 0.8762\n",
      "Epoch 00005: loss improved from 0.49991 to 0.46443, saving model to unet_trapdoors.hdf5\n",
      "2000/2000 [==============================] - 1034s 517ms/step - loss: 0.4644 - accuracy: 0.8762\n"
     ]
    },
    {
     "data": {
      "text/plain": [
       "<tensorflow.python.keras.callbacks.History at 0x1b206c87808>"
      ]
     },
     "execution_count": 2,
     "metadata": {},
     "output_type": "execute_result"
    }
   ],
   "source": [
    "data_gen_args = dict(rotation_range=0.2,\n",
    "                    width_shift_range=0.05,\n",
    "                    height_shift_range=0.05,\n",
    "                    shear_range=0.05,\n",
    "                    zoom_range=0.05,\n",
    "                    horizontal_flip=True,\n",
    "                    fill_mode='nearest')\n",
    "myGene = trainGenerator(2,'data/trapdoors/train','image','label',data_gen_args,save_to_dir = 'saves')\n",
    "model = unet()\n",
    "model_checkpoint = ModelCheckpoint('unet_trapdoors.hdf5', monitor='loss',verbose=1, save_best_only=True)\n",
    "model.fit_generator(myGene,steps_per_epoch=2000,epochs=5,callbacks=[model_checkpoint])"
   ]
  },
  {
   "cell_type": "code",
   "execution_count": null,
   "metadata": {},
   "outputs": [],
   "source": []
  }
 ],
 "metadata": {
  "kernelspec": {
   "display_name": "Python 3",
   "language": "python",
   "name": "python3"
  },
  "language_info": {
   "codemirror_mode": {
    "name": "ipython",
    "version": 3
   },
   "file_extension": ".py",
   "mimetype": "text/x-python",
   "name": "python",
   "nbconvert_exporter": "python",
   "pygments_lexer": "ipython3",
   "version": "3.7.5"
  }
 },
 "nbformat": 4,
 "nbformat_minor": 4
}
