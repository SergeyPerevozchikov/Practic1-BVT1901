{
 "cells": [
  {
   "cell_type": "code",
   "execution_count": 1,
   "metadata": {},
   "outputs": [],
   "source": [
    "from model import *\n",
    "from data import *"
   ]
  },
  {
   "cell_type": "code",
   "execution_count": 2,
   "metadata": {
    "scrolled": true
   },
   "outputs": [
    {
     "name": "stdout",
     "output_type": "stream",
     "text": [
      "WARNING:tensorflow:From <ipython-input-2-117a06345b3a>:11: Model.fit_generator (from tensorflow.python.keras.engine.training) is deprecated and will be removed in a future version.\n",
      "Instructions for updating:\n",
      "Please use Model.fit, which supports generators.\n",
      "Found 30 images belonging to 1 classes.\n",
      "Found 30 images belonging to 1 classes.\n",
      "Epoch 1/5\n",
      "   2/2000 [..............................] - ETA: 6:51 - loss: 0.6962 - accuracy: 0.8221WARNING:tensorflow:Callbacks method `on_train_batch_end` is slow compared to the batch time (batch time: 0.1199s vs `on_train_batch_end` time: 0.2822s). Check your callbacks.\n",
      "2000/2000 [==============================] - ETA: 0s - loss: 0.2122 - accuracy: 0.9084\n",
      "Epoch 00001: loss improved from inf to 0.21217, saving model to unet_trapdoors.hdf5\n",
      "2000/2000 [==============================] - 958s 479ms/step - loss: 0.2122 - accuracy: 0.9084\n",
      "Epoch 2/5\n",
      "2000/2000 [==============================] - ETA: 0s - loss: 0.1955 - accuracy: 0.9196\n",
      "Epoch 00002: loss improved from 0.21217 to 0.19551, saving model to unet_trapdoors.hdf5\n",
      "2000/2000 [==============================] - 920s 460ms/step - loss: 0.1955 - accuracy: 0.9196\n",
      "Epoch 3/5\n",
      "2000/2000 [==============================] - ETA: 0s - loss: 0.1748 - accuracy: 0.9291\n",
      "Epoch 00003: loss improved from 0.19551 to 0.17476, saving model to unet_trapdoors.hdf5\n",
      "2000/2000 [==============================] - 990s 495ms/step - loss: 0.1748 - accuracy: 0.9291\n",
      "Epoch 4/5\n",
      "2000/2000 [==============================] - ETA: 0s - loss: 0.0942 - accuracy: 0.9626\n",
      "Epoch 00004: loss improved from 0.17476 to 0.09421, saving model to unet_trapdoors.hdf5\n",
      "2000/2000 [==============================] - 1007s 504ms/step - loss: 0.0942 - accuracy: 0.9626\n",
      "Epoch 5/5\n",
      "2000/2000 [==============================] - ETA: 0s - loss: 0.0344 - accuracy: 0.9865\n",
      "Epoch 00005: loss improved from 0.09421 to 0.03441, saving model to unet_trapdoors.hdf5\n",
      "2000/2000 [==============================] - 1011s 506ms/step - loss: 0.0344 - accuracy: 0.9865\n"
     ]
    },
    {
     "data": {
      "text/plain": [
       "<tensorflow.python.keras.callbacks.History at 0x1ed61b0e688>"
      ]
     },
     "execution_count": 2,
     "metadata": {},
     "output_type": "execute_result"
    }
   ],
   "source": [
    "data_gen_args = dict(rotation_range=0.2,\n",
    "                    width_shift_range=0.05,\n",
    "                    height_shift_range=0.05,\n",
    "                    shear_range=0.05,\n",
    "                    zoom_range=0.05,\n",
    "                    horizontal_flip=True,\n",
    "                    fill_mode='nearest')\n",
    "myGene = trainGenerator(2,'data/trapdoors/train','image','label',data_gen_args,save_to_dir = 'saves')\n",
    "model = unet()\n",
    "model_checkpoint = ModelCheckpoint('unet_trapdoors.hdf5', monitor='loss',verbose=1, save_best_only=True)\n",
    "model.fit_generator(myGene,steps_per_epoch=2000,epochs=5,callbacks=[model_checkpoint])"
   ]
  },
  {
   "cell_type": "code",
   "execution_count": null,
   "metadata": {},
   "outputs": [],
   "source": []
  }
 ],
 "metadata": {
  "kernelspec": {
   "display_name": "Python 3",
   "language": "python",
   "name": "python3"
  },
  "language_info": {
   "codemirror_mode": {
    "name": "ipython",
    "version": 3
   },
   "file_extension": ".py",
   "mimetype": "text/x-python",
   "name": "python",
   "nbconvert_exporter": "python",
   "pygments_lexer": "ipython3",
   "version": "3.7.5"
  }
 },
 "nbformat": 4,
 "nbformat_minor": 4
}
